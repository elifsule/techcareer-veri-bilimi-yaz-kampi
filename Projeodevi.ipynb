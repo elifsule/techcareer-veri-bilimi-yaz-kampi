{
  "nbformat": 4,
  "nbformat_minor": 0,
  "metadata": {
    "colab": {
      "provenance": []
    },
    "kernelspec": {
      "name": "python3",
      "display_name": "Python 3"
    },
    "language_info": {
      "name": "python"
    }
  },
  "cells": [
    {
      "cell_type": "code",
      "execution_count": 5,
      "metadata": {
        "colab": {
          "base_uri": "https://localhost:8080/"
        },
        "id": "ttIuPShlf3MT",
        "outputId": "c81e3d85-7124-45d5-ecf8-1c1bb326f7ed"
      },
      "outputs": [
        {
          "output_type": "stream",
          "name": "stdout",
          "text": [
            "En çok satan kitap: Makine Öğrenmesi\n",
            "Yazar satışları: {'Can': 1800, 'Ali': 3400, 'Deniz': 400, 'Ayşe': 1550}\n",
            "Tüm türler: {'Bilim', 'Sosyal', 'Akademik', 'Sanat'}\n",
            "1000'den fazla satan kitaplar: ['Veri Bilimi 101', 'Makine Öğrenmesi', 'Matematiksel Modelleme']\n",
            "Ortalama satış: 1021.4285714285714\n",
            "Standart sapma: 506.5\n",
            "En çok satış yapan tür: Bilim\n",
            "2020 sonrası kitaplar: ['Veri Bilimi 101', 'Makine Öğrenmesi', 'Matematiksel Modelleme', 'Bilgi Toplumu']\n",
            "Satışlar %10 artırılmış: [1320.0, 1045.0, 770.0, 1980.0, 440.0, 1650.0, 660.0]\n",
            "Satışa göre azalan sıralama: ['Makine Öğrenmesi', 'Matematiksel Modelleme', 'Veri Bilimi 101', 'Python ile Yapay Zeka', 'İstatistik Temelleri', 'Bilgi Toplumu', 'Veri Görselleştirme']\n",
            "Train seti: ['Makine Öğrenmesi', 'Matematiksel Modelleme', 'Veri Görselleştirme', 'Python ile Yapay Zeka']\n",
            "Test seti: ['İstatistik Temelleri', 'Bilgi Toplumu', 'Veri Bilimi 101']\n",
            "Yazarların ortalama satışları (train): {'Ali': 1500, 'Deniz': 400, 'Can': 1800, 'Ayşe': 950}\n",
            "Test setinde ortalamanın üstünde satmış kitaplar: []\n"
          ]
        }
      ],
      "source": [
        "import random\n",
        "import statistics\n",
        "kitaplar = [\n",
        " {\"isim\": \"Veri Bilimi 101\", \"yazar\": \"Ali\", \"tur\": \"Bilim\", \"satis\": 1200, \"yil\": 2021},\n",
        " {\"isim\": \"Python ile Yapay Zeka\", \"yazar\": \"Ayşe\", \"tur\": \"Bilim\", \"satis\": 950, \"yil\":\n",
        "2020},\n",
        " {\"isim\": \"İstatistik Temelleri\", \"yazar\": \"Ali\", \"tur\": \"Akademik\", \"satis\": 700, \"yil\": 2019},\n",
        " {\"isim\": \"Makine Öğrenmesi\", \"yazar\": \"Can\", \"tur\": \"Bilim\", \"satis\": 1800, \"yil\": 2022},\n",
        " {\"isim\": \"Veri Görselleştirme\", \"yazar\": \"Deniz\", \"tur\": \"Sanat\", \"satis\": 400, \"yil\": 2018},\n",
        " {\"isim\": \"Matematiksel Modelleme\", \"yazar\": \"Ali\", \"tur\": \"Akademik\", \"satis\": 1500,\n",
        "\"yil\": 2021},\n",
        " {\"isim\": \"Bilgi Toplumu\", \"yazar\": \"Ayşe\", \"tur\": \"Sosyal\", \"satis\": 600, \"yil\": 2022}\n",
        "]\n",
        "\n",
        "def en_cok_satan(kitaplar):\n",
        "   en_cok = max(kitaplar, key=lambda x: x[\"satis\"])\n",
        "   return en_cok\n",
        "\n",
        "def yazar_satislari(kitaplar):\n",
        "  satis = {}\n",
        "  for kitap in kitaplar:\n",
        "        yazar = kitap[\"yazar\"]\n",
        "        satislar = kitap[\"satis\"]\n",
        "        if yazar in satis:\n",
        "            satis[yazar] += satislar\n",
        "        else:\n",
        "            satis[yazar] = satislar\n",
        "  return satis\n",
        "\n",
        "\n",
        "turler = set([kitap[\"tur\"] for kitap in kitaplar])\n",
        "yuksek_satis = [kitap[\"isim\"] for kitap in kitaplar if kitap[\"satis\"] > 1000]\n",
        "\n",
        "kitap_2020_sonra = list(filter(lambda x: x[\"yil\"] > 2020, kitaplar))\n",
        "yeni_satislar = list(map(lambda x: x[\"satis\"]*1.1, kitaplar))\n",
        "sirali_kitaplar = sorted(kitaplar, key=lambda x: x[\"satis\"], reverse=True)\n",
        "\n",
        "\n",
        "satis_listesi = [kitap[\"satis\"] for kitap in kitaplar]\n",
        "ortalama_satis = statistics.mean(satis_listesi)\n",
        "std_sapma = statistics.stdev(satis_listesi)\n",
        "\n",
        "tur_satis = {}\n",
        "for kitap in kitaplar:\n",
        "    tur = kitap[\"tur\"]\n",
        "    satis = kitap[\"satis\"]\n",
        "    if tur in tur_satis:\n",
        "        tur_satis[tur] += satis\n",
        "    else:\n",
        "        tur_satis[tur] = satis\n",
        "en_cok_satan_tur = max(tur_satis, key=tur_satis.get)\n",
        "\n",
        "random.shuffle(kitaplar)\n",
        "n = len(kitaplar)\n",
        "train_size = int(n * 0.7)\n",
        "train_set = kitaplar[:train_size]\n",
        "test_set = kitaplar[train_size:]\n",
        "\n",
        "yazar_ortalama = {}\n",
        "for yazar in set([k[\"yazar\"] for k in train_set]):\n",
        "    satislar = [k[\"satis\"] for k in train_set if k[\"yazar\"] == yazar]\n",
        "    yazar_ortalama[yazar] = statistics.mean(satislar)\n",
        "\n",
        "test_ust_ortalama = [k[\"isim\"] for k in test_set if k[\"satis\"] > yazar_ortalama.get(k[\"yazar\"],0)]\n",
        "#denemeler\n",
        "print(\"En çok satan kitap:\", en_cok_satan(kitaplar)[\"isim\"])\n",
        "print(\"Yazar satışları:\", yazar_satislari(kitaplar))\n",
        "print(\"Tüm türler:\", turler)\n",
        "print(\"1000'den fazla satan kitaplar:\", yuksek_satis)\n",
        "print(\"Ortalama satış:\", ortalama_satis)\n",
        "print(\"Standart sapma:\", round(std_sapma,1))\n",
        "print(\"En çok satış yapan tür:\", en_cok_satan_tur)\n",
        "print(\"2020 sonrası kitaplar:\", [k[\"isim\"] for k in kitap_2020_sonra])\n",
        "print(\"Satışlar %10 artırılmış:\", [round(s,1) for s in yeni_satislar])\n",
        "print(\"Satışa göre azalan sıralama:\", [k[\"isim\"] for k in sirali_kitaplar])\n",
        "print(\"Train seti:\", [k[\"isim\"] for k in train_set])\n",
        "print(\"Test seti:\", [k[\"isim\"] for k in test_set])\n",
        "print(\"Yazarların ortalama satışları (train):\", yazar_ortalama)\n",
        "print(\"Test setinde ortalamanın üstünde satmış kitaplar:\", test_ust_ortalama)"
      ]
    }
  ]
}