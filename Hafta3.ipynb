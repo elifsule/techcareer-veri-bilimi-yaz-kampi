{
  "nbformat": 4,
  "nbformat_minor": 0,
  "metadata": {
    "colab": {
      "provenance": []
    },
    "kernelspec": {
      "name": "python3",
      "display_name": "Python 3"
    },
    "language_info": {
      "name": "python"
    }
  },
  "cells": [
    {
      "cell_type": "markdown",
      "source": [
        "1. soru"
      ],
      "metadata": {
        "id": "o1LrLYLffFVD"
      }
    },
    {
      "cell_type": "code",
      "execution_count": 4,
      "metadata": {
        "id": "2eY-VB739-9G",
        "colab": {
          "base_uri": "https://localhost:8080/"
        },
        "outputId": "75b687f4-b323-4e95-a030-7ea2761d6228"
      },
      "outputs": [
        {
          "output_type": "stream",
          "name": "stdout",
          "text": [
            "benzersiz notlar [100, 92, 85, 76]\n",
            "En yüksek  100\n",
            "En düşük  76\n",
            "Sıralı Notlar [76, 76, 85, 85, 92, 92, 92, 100]\n"
          ]
        }
      ],
      "source": [
        "notlar = [85, 92, 76, 92, 100, 76, 85, 92]\n",
        "benzersiz_notlar = list(set(notlar))\n",
        "print(\"benzersiz notlar\", benzersiz_notlar)\n",
        "\n",
        "en_yuksek = max(notlar)\n",
        "en_dusuk = min(notlar)\n",
        "print(\"En yüksek \", en_yuksek)\n",
        "print(\"En düşük \", en_dusuk)\n",
        "\n",
        "sirali_notlar = sorted(notlar)\n",
        "print(\"sıralı Notlar\", sirali_notlar)"
      ]
    },
    {
      "cell_type": "code",
      "source": [
        "def armstrong(sayi):\n",
        "    basamaklar = str(sayi)\n",
        "    toplam = 0\n",
        "    for b in basamaklar:\n",
        "        toplam += int(b) ** 3\n",
        "    return toplam == sayi\n",
        "\n",
        "print(armstrong(153))\n",
        "print(armstrong(444))\n",
        "print(armstrong(666))\n",
        "print(armstrong(123))"
      ],
      "metadata": {
        "colab": {
          "base_uri": "https://localhost:8080/"
        },
        "id": "1Tj5Em3hXVGF",
        "outputId": "3bd82647-7c57-4ef8-e935-638337c1db70"
      },
      "execution_count": 15,
      "outputs": [
        {
          "output_type": "stream",
          "name": "stdout",
          "text": [
            "True\n",
            "False\n",
            "False\n",
            "False\n"
          ]
        }
      ]
    },
    {
      "cell_type": "code",
      "source": [
        "A = {\"Python\", \"R\", \"SQL\", \"Java\"}\n",
        "B = {\"C++\", \"Python\", \"JavaScript\", \"SQL\"}\n",
        "ortak = A & B\n",
        "print(\"ortak olanlar\", ortak)\n",
        "sadece_A = A - B\n",
        "print(\"sadece a da olanlar\", sadece_A)\n",
        "birlesim = sorted(A | B)\n",
        "print(\"alafabetik birleşimleri\", birlesim)\n"
      ],
      "metadata": {
        "colab": {
          "base_uri": "https://localhost:8080/"
        },
        "id": "Iv_iHRyYXZW5",
        "outputId": "6471cad2-cf19-4fcf-8628-2fae3bb87527"
      },
      "execution_count": 6,
      "outputs": [
        {
          "output_type": "stream",
          "name": "stdout",
          "text": [
            "ortak olanlar {'SQL', 'Python'}\n",
            "sadece a da olanlar {'Java', 'R'}\n",
            "alafabetik birleşimleri ['C++', 'Java', 'JavaScript', 'Python', 'R', 'SQL']\n"
          ]
        }
      ]
    },
    {
      "cell_type": "code",
      "source": [
        "import random\n",
        "import statistics\n",
        "sayilar = [random.randint(1, 100) for i in range(10)]\n",
        "ortalama = statistics.mean(sayilar)\n",
        "print(\"ortalama\", ortalama)\n",
        "std_sapma = statistics.stdev(sayilar)\n",
        "print(std_sapma)"
      ],
      "metadata": {
        "colab": {
          "base_uri": "https://localhost:8080/"
        },
        "id": "hP-4IiPsYU3F",
        "outputId": "daf9fa68-8630-4f63-f6e6-35a3e70d3981"
      },
      "execution_count": 7,
      "outputs": [
        {
          "output_type": "stream",
          "name": "stdout",
          "text": [
            "ortalama 43.6\n",
            "24.985329028585287\n"
          ]
        }
      ]
    },
    {
      "cell_type": "code",
      "source": [
        "def kelime_sayaci(metin):\n",
        "    kelimeler = metin.split()\n",
        "    toplam = len(kelimeler)\n",
        "    en_uzun = max(kelimeler, key=len)\n",
        "    counter = {}\n",
        "    for i in kelimeler:\n",
        "        if i in counter:\n",
        "            counter[i] += 1\n",
        "        else:\n",
        "            counter[i] = 1\n",
        "\n",
        "\n",
        "    tekrar = max(counter, key=counter.get)\n",
        "    return toplam, en_uzun, tekrar\n",
        "\n",
        "\n",
        "metin = \"Elif veri bilimi veri vilimi elif\"\n",
        "print(kelime_sayaci(metin))\n"
      ],
      "metadata": {
        "colab": {
          "base_uri": "https://localhost:8080/"
        },
        "id": "x1WIJn4SYjXu",
        "outputId": "fe289162-3a47-483a-aff3-9a43c8f7534a"
      },
      "execution_count": 9,
      "outputs": [
        {
          "output_type": "stream",
          "name": "stdout",
          "text": [
            "(6, 'bilimi', 'veri')\n"
          ]
        }
      ]
    },
    {
      "cell_type": "code",
      "source": [
        "sayilar = [5, 12, 7, 18, 24, 3, 16]\n",
        "ciftler = list(filter(lambda x: x % 2 == 0, sayilar))\n",
        "print(\"çift\", ciftler)\n",
        "kareler = list(map(lambda x: x ** 2, ciftler))\n",
        "print(\"kareleri\", kareler)\n",
        "sirali = sorted(kareler, reverse=True)\n",
        "print(\"siralanmis\" ,sirali)"
      ],
      "metadata": {
        "colab": {
          "base_uri": "https://localhost:8080/"
        },
        "id": "eW9409JIZyMa",
        "outputId": "19d4f7f2-746c-4594-a491-1e5591f1f727"
      },
      "execution_count": 12,
      "outputs": [
        {
          "output_type": "stream",
          "name": "stdout",
          "text": [
            "çift [12, 18, 24, 16]\n",
            "kareleri [144, 324, 576, 256]\n",
            "siralanmis [576, 324, 256, 144]\n"
          ]
        }
      ]
    },
    {
      "cell_type": "code",
      "source": [
        "kelimeler = [\"veri\", \"bilim\", \"analiz\", \"yapayzeka\", \"python\"]\n",
        "uzunluk= list(map(lambda x: (len(x), x), kelimeler))\n",
        "sirali = sorted(uzunluk)\n",
        "sonuc = list(map(lambda x: x[1], sirali))\n",
        "print(sonuc)"
      ],
      "metadata": {
        "colab": {
          "base_uri": "https://localhost:8080/"
        },
        "id": "s45mDB-9aVTh",
        "outputId": "f65aa574-cdc7-467f-9d4f-5a6dcd13238d"
      },
      "execution_count": 13,
      "outputs": [
        {
          "output_type": "stream",
          "name": "stdout",
          "text": [
            "['veri', 'bilim', 'analiz', 'python', 'yapayzeka']\n"
          ]
        }
      ]
    },
    {
      "cell_type": "code",
      "source": [
        "def rakamlari_topla(metin):\n",
        "    toplam = 0\n",
        "    sayi = \"\"\n",
        "    for i in metin:\n",
        "        if i.isdigit():       #rakam mı kontrolü yapıyor\n",
        "            sayi += i\n",
        "        else:\n",
        "            if sayi != \"\":\n",
        "                toplam += int(sayi)\n",
        "                sayi = \"\"\n",
        "    if sayi != \"\":\n",
        "        toplam += int(sayi)\n",
        "    return toplam\n",
        "metin = \"abc12def3\"\n",
        "print(rakamlari_topla(metin))\n"
      ],
      "metadata": {
        "colab": {
          "base_uri": "https://localhost:8080/"
        },
        "id": "sdyP_Q4bax6l",
        "outputId": "58fa9ef7-0a36-4419-b043-c4d281b92c61"
      },
      "execution_count": 16,
      "outputs": [
        {
          "output_type": "stream",
          "name": "stdout",
          "text": [
            "15\n"
          ]
        }
      ]
    },
    {
      "cell_type": "code",
      "source": [
        "import numpy as np\n",
        "\n",
        "dizi = np.random.randint(0, 51, 10)\n",
        "\n",
        "ortalama = np.mean(dizi)\n",
        "print(\"ortalama\", ortalama)\n",
        "\n",
        "std_sapma = np.std(dizi)\n",
        "print(\"standart sapma:\", std_sapma)\n",
        "\n",
        "en_buyuk = np.max(dizi)\n",
        "print(\"En büyük\", en_buyuk)"
      ],
      "metadata": {
        "colab": {
          "base_uri": "https://localhost:8080/"
        },
        "id": "UL42lzvYdGcJ",
        "outputId": "08c025b6-1ff9-41c3-ee67-b20be0c7a13b"
      },
      "execution_count": 17,
      "outputs": [
        {
          "output_type": "stream",
          "name": "stdout",
          "text": [
            "ortalama 24.2\n",
            "standart sapma: 16.951696080333672\n",
            "En büyük 48\n"
          ]
        }
      ]
    },
    {
      "cell_type": "code",
      "source": [
        "matris = np.random.rand(5,5)\n",
        "print(\"matris\\n\", matris)\n",
        "\n",
        "sutun_ort = np.mean(matris, axis=0)\n",
        "print(\"sütun ort\", sutun_ort)\n",
        "\n",
        "binary_matris = np.where(matris > 0.5, 1, 0)\n",
        "print(\"binary matris\\n\", binary_matris)"
      ],
      "metadata": {
        "colab": {
          "base_uri": "https://localhost:8080/"
        },
        "id": "wXi3SllXewjJ",
        "outputId": "4d03defa-2fb2-4e65-f79e-ab9442e96d6b"
      },
      "execution_count": 18,
      "outputs": [
        {
          "output_type": "stream",
          "name": "stdout",
          "text": [
            "matris\n",
            " [[0.53708344 0.52819957 0.70498444 0.63144569 0.87288371]\n",
            " [0.56897714 0.62361308 0.96780169 0.84486512 0.9262753 ]\n",
            " [0.25981221 0.58306092 0.87332624 0.22339772 0.30901279]\n",
            " [0.35640946 0.77120109 0.03304229 0.19129781 0.30623268]\n",
            " [0.30328606 0.94031144 0.17296321 0.58810853 0.92829057]]\n",
            "sütun ort [0.40511366 0.68927722 0.55042357 0.49582297 0.66853901]\n",
            "binary matris\n",
            " [[1 1 1 1 1]\n",
            " [1 1 1 1 1]\n",
            " [0 1 1 0 0]\n",
            " [0 1 0 0 0]\n",
            " [0 1 0 1 1]]\n"
          ]
        }
      ]
    }
  ]
}